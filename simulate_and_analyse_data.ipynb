{
 "cells": [
  {
   "cell_type": "code",
   "execution_count": 1,
   "metadata": {},
   "outputs": [],
   "source": [
    "from simulate_s2s_uns2uns_model import simulate_steps\n",
    "import analyse_results\n",
    "import pandas as pd\n",
    "\n",
    "\n",
    "#Generate metrics/model information for dictionary of networks\n",
    "#and their detections data\n",
    "def generate_model_data(ntwkDict):\n",
    "    #metrics information needed\n",
    "    model_data = ['P_s2s','P_u2s','P_visible','seen','seen2seen',\\\n",
    "                 'seen2unseen','unseen','unseen2seen','unseen2unseen']\n",
    "    model_names = list(ntwkDict.keys())\n",
    "    df = pd.DataFrame(index=model_data,columns=model_names)\n",
    "    for model in model_names:\n",
    "        #compute data for each litter\n",
    "        ntwkDF = ntwkDict[model]\n",
    "        \n",
    "        ntwkDF.loc[:,'P_s2s'] = \\\n",
    "        ntwkDF['seen2seen']/(ntwkDF['seen2seen']+ntwkDF['seen2unseen'])\n",
    "        \n",
    "        ntwkDF.loc[:,'P_u2s'] = \\\n",
    "        ntwkDF['unseen2seen']/(ntwkDF['unseen2seen']+ntwkDF['unseen2unseen'])\n",
    "        \n",
    "        ntwkDF.loc[:,'P_visible'] = ntwkDF['seen']/ntwkDF['visible']\n",
    "\n",
    "        #summarize data into new df\n",
    "        for data in model_data:\n",
    "            if 'P_' in data:\n",
    "                df.loc[data,model] = f'${ntwkDF[data].mean():.4f} \\pm {ntwkDF[data].std():.4f}$'\n",
    "            else:\n",
    "                df.loc[data,model] = f'{int(ntwkDF[data].sum())}'\n",
    "    return df\n",
    "    "
   ]
  },
  {
   "cell_type": "code",
   "execution_count": 2,
   "metadata": {},
   "outputs": [],
   "source": [
    "def read_probability_file(fps,nafilter):\n",
    "    means = pd.read_csv(f\"probabilities/{fps}fps/TPandFN_probability_means_nafilter_{nafilter}.csv\",\n",
    "                       header=0,index_col=0)\n",
    "    stddev = pd.read_csv(f\"probabilities/{fps}fps/TPandFN_probability_stddev_nafilter_{nafilter}.csv\",\n",
    "                       header=0,index_col=0)\n",
    "    ntwkDict = {}\n",
    "    tex_df = pd.DataFrame()\n",
    "    for ntwk in means.columns:\n",
    "        ntwkDict[ntwk] = ((means.loc['P_s2s',ntwk],stddev.loc['P_s2s',ntwk]),\\\n",
    "                          (means.loc['P_u2s',ntwk],stddev.loc['P_u2s',ntwk]))\n",
    "        tex_df.loc['P_s2s',ntwk] = f\"${means.loc['P_s2s',ntwk]:.4f} \\pm {stddev.loc['P_s2s',ntwk]:.4f}$\"\n",
    "        tex_df.loc['P_u2s',ntwk] = f\"${means.loc['P_u2s',ntwk]:.4f} \\pm {stddev.loc['P_u2s',ntwk]:.4f}$\"\n",
    "        tex_df.loc['P_visible',ntwk] = f\"${means.loc['P_visible',ntwk]:.4f} \\pm {stddev.loc['P_visible',ntwk]:.4f}$\"\n",
    "    return means,stddev,ntwkDict,tex_df"
   ]
  },
  {
   "cell_type": "code",
   "execution_count": 3,
   "metadata": {},
   "outputs": [],
   "source": [
    "def simulate_and_analyse_ntwk_data(ntwkDict):\n",
    "    simDict = {}\n",
    "    for ntwk in ntwkDict:\n",
    "        print(ntwk)\n",
    "        p_s2s,p_u2s = ntwkDict[ntwk]\n",
    "        simDict[ntwk] = simulate_steps(p_s2s,p_u2s,mode,nlitter,tsteps)\n",
    "    return generate_model_data(simDict)"
   ]
  },
  {
   "cell_type": "code",
   "execution_count": 8,
   "metadata": {},
   "outputs": [
    {
     "name": "stdout",
     "output_type": "stream",
     "text": [
      "mSSD-124\n",
      " 99                                                                                                                                                                                                                            \n",
      "mSSD-220\n",
      " 99                                                                                                                                                                                                                                                                   \n",
      "yolov3-tiny-128\n",
      " 99                                                                                                                                                                                                                                                                                       \n",
      "yolov3-tiny-224\n",
      " 99                                                                                                                                                                                                       \n"
     ]
    }
   ],
   "source": [
    "nlitter = 100\n",
    "tsteps = 100\n",
    "mode='mean'\n",
    "fps=1\n",
    "nafilter='0'\n",
    "means,stddev,ntwkDict,tex_df = read_probability_file(fps,nafilter)\n",
    "sim_data = simulate_and_analyse_ntwk_data(ntwkDict)"
   ]
  },
  {
   "cell_type": "code",
   "execution_count": 9,
   "metadata": {
    "scrolled": true
   },
   "outputs": [
    {
     "data": {
      "text/plain": [
       "'experiment data'"
      ]
     },
     "metadata": {},
     "output_type": "display_data"
    },
    {
     "data": {
      "text/html": [
       "<div>\n",
       "<style scoped>\n",
       "    .dataframe tbody tr th:only-of-type {\n",
       "        vertical-align: middle;\n",
       "    }\n",
       "\n",
       "    .dataframe tbody tr th {\n",
       "        vertical-align: top;\n",
       "    }\n",
       "\n",
       "    .dataframe thead th {\n",
       "        text-align: right;\n",
       "    }\n",
       "</style>\n",
       "<table border=\"1\" class=\"dataframe\">\n",
       "  <thead>\n",
       "    <tr style=\"text-align: right;\">\n",
       "      <th></th>\n",
       "      <th>mSSD-124</th>\n",
       "      <th>mSSD-220</th>\n",
       "      <th>yolov3-tiny-128</th>\n",
       "      <th>yolov3-tiny-224</th>\n",
       "    </tr>\n",
       "  </thead>\n",
       "  <tbody>\n",
       "    <tr>\n",
       "      <th>P_u2s</th>\n",
       "      <td>$0.3827 \\pm 0.3434$</td>\n",
       "      <td>$0.4916 \\pm 0.4081$</td>\n",
       "      <td>$0.1310 \\pm 0.2341$</td>\n",
       "      <td>$0.1983 \\pm 0.2976$</td>\n",
       "    </tr>\n",
       "    <tr>\n",
       "      <th>P_s2s</th>\n",
       "      <td>$0.4820 \\pm 0.4659$</td>\n",
       "      <td>$0.6352 \\pm 0.4053$</td>\n",
       "      <td>$0.1300 \\pm 0.3170$</td>\n",
       "      <td>$0.2037 \\pm 0.3648$</td>\n",
       "    </tr>\n",
       "    <tr>\n",
       "      <th>P_visible</th>\n",
       "      <td>$0.4185 \\pm 0.2923$</td>\n",
       "      <td>$0.6042 \\pm 0.2852$</td>\n",
       "      <td>$0.1214 \\pm 0.2032$</td>\n",
       "      <td>$0.2039 \\pm 0.2712$</td>\n",
       "    </tr>\n",
       "  </tbody>\n",
       "</table>\n",
       "</div>"
      ],
      "text/plain": [
       "                      mSSD-124             mSSD-220      yolov3-tiny-128  \\\n",
       "P_u2s      $0.3827 \\pm 0.3434$  $0.4916 \\pm 0.4081$  $0.1310 \\pm 0.2341$   \n",
       "P_s2s      $0.4820 \\pm 0.4659$  $0.6352 \\pm 0.4053$  $0.1300 \\pm 0.3170$   \n",
       "P_visible  $0.4185 \\pm 0.2923$  $0.6042 \\pm 0.2852$  $0.1214 \\pm 0.2032$   \n",
       "\n",
       "               yolov3-tiny-224  \n",
       "P_u2s      $0.1983 \\pm 0.2976$  \n",
       "P_s2s      $0.2037 \\pm 0.3648$  \n",
       "P_visible  $0.2039 \\pm 0.2712$  "
      ]
     },
     "metadata": {},
     "output_type": "display_data"
    },
    {
     "data": {
      "text/plain": [
       "'simulated data'"
      ]
     },
     "metadata": {},
     "output_type": "display_data"
    },
    {
     "data": {
      "text/html": [
       "<div>\n",
       "<style scoped>\n",
       "    .dataframe tbody tr th:only-of-type {\n",
       "        vertical-align: middle;\n",
       "    }\n",
       "\n",
       "    .dataframe tbody tr th {\n",
       "        vertical-align: top;\n",
       "    }\n",
       "\n",
       "    .dataframe thead th {\n",
       "        text-align: right;\n",
       "    }\n",
       "</style>\n",
       "<table border=\"1\" class=\"dataframe\">\n",
       "  <thead>\n",
       "    <tr style=\"text-align: right;\">\n",
       "      <th></th>\n",
       "      <th>mSSD-124</th>\n",
       "      <th>mSSD-220</th>\n",
       "      <th>yolov3-tiny-128</th>\n",
       "      <th>yolov3-tiny-224</th>\n",
       "    </tr>\n",
       "  </thead>\n",
       "  <tbody>\n",
       "    <tr>\n",
       "      <th>P_u2s</th>\n",
       "      <td>$0.3795 \\pm 0.0705$</td>\n",
       "      <td>$0.5000 \\pm 0.0711$</td>\n",
       "      <td>$0.1338 \\pm 0.0336$</td>\n",
       "      <td>$0.2012 \\pm 0.0467$</td>\n",
       "    </tr>\n",
       "    <tr>\n",
       "      <th>P_s2s</th>\n",
       "      <td>$0.4737 \\pm 0.0867$</td>\n",
       "      <td>$0.6171 \\pm 0.0661$</td>\n",
       "      <td>$0.1362 \\pm 0.0902$</td>\n",
       "      <td>$0.1898 \\pm 0.0931$</td>\n",
       "    </tr>\n",
       "    <tr>\n",
       "      <th>P_visible</th>\n",
       "      <td>$0.4183 \\pm 0.0606$</td>\n",
       "      <td>$0.5662 \\pm 0.0569$</td>\n",
       "      <td>$0.1342 \\pm 0.0310$</td>\n",
       "      <td>$0.1992 \\pm 0.0418$</td>\n",
       "    </tr>\n",
       "  </tbody>\n",
       "</table>\n",
       "</div>"
      ],
      "text/plain": [
       "                      mSSD-124             mSSD-220      yolov3-tiny-128  \\\n",
       "P_u2s      $0.3795 \\pm 0.0705$  $0.5000 \\pm 0.0711$  $0.1338 \\pm 0.0336$   \n",
       "P_s2s      $0.4737 \\pm 0.0867$  $0.6171 \\pm 0.0661$  $0.1362 \\pm 0.0902$   \n",
       "P_visible  $0.4183 \\pm 0.0606$  $0.5662 \\pm 0.0569$  $0.1342 \\pm 0.0310$   \n",
       "\n",
       "               yolov3-tiny-224  \n",
       "P_u2s      $0.2012 \\pm 0.0467$  \n",
       "P_s2s      $0.1898 \\pm 0.0931$  \n",
       "P_visible  $0.1992 \\pm 0.0418$  "
      ]
     },
     "metadata": {},
     "output_type": "display_data"
    }
   ],
   "source": [
    "probabilities=['P_u2s','P_s2s','P_visible']\n",
    "display('experiment data',tex_df.loc[probabilities,:])\n",
    "display('simulated data',sim_data.loc[probabilities,:])"
   ]
  },
  {
   "cell_type": "code",
   "execution_count": null,
   "metadata": {},
   "outputs": [],
   "source": []
  }
 ],
 "metadata": {
  "kernelspec": {
   "display_name": "Python 3",
   "language": "python",
   "name": "python3"
  },
  "language_info": {
   "codemirror_mode": {
    "name": "ipython",
    "version": 3
   },
   "file_extension": ".py",
   "mimetype": "text/x-python",
   "name": "python",
   "nbconvert_exporter": "python",
   "pygments_lexer": "ipython3",
   "version": "3.7.2"
  }
 },
 "nbformat": 4,
 "nbformat_minor": 2
}

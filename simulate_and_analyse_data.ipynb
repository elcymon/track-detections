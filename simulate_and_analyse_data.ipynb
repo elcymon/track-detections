{
 "cells": [
  {
   "cell_type": "code",
   "execution_count": 1,
   "metadata": {},
   "outputs": [],
   "source": [
    "from simulate_s2s_uns2uns_model import simulate_steps\n",
    "import analyse_results\n",
    "import pandas as pd\n",
    "\n",
    "\n",
    "#Generate metrics/model information for dictionary of networks\n",
    "#and their detections data\n",
    "def generate_model_data(ntwkDict):\n",
    "    #metrics information needed\n",
    "    model_data = ['P_s2s','P_u2s','P_visible','seen','seen2seen',\\\n",
    "                 'seen2unseen','unseen','unseen2seen','unseen2unseen']\n",
    "    model_names = list(ntwkDict.keys())\n",
    "    df = pd.DataFrame(index=model_data,columns=model_names)\n",
    "    for model in model_names:\n",
    "        #compute data for each litter\n",
    "        ntwkDF = ntwkDict[model]\n",
    "        \n",
    "        ntwkDF.loc[:,'P_s2s'] = \\\n",
    "        ntwkDF['seen2seen']/(ntwkDF['seen2seen']+ntwkDF['seen2unseen'])\n",
    "        \n",
    "        ntwkDF.loc[:,'P_u2s'] = \\\n",
    "        ntwkDF['unseen2seen']/(ntwkDF['unseen2seen']+ntwkDF['unseen2unseen'])\n",
    "        \n",
    "        ntwkDF.loc[:,'P_visible'] = ntwkDF['seen']/ntwkDF['visible']\n",
    "\n",
    "        #summarize data into new df\n",
    "        for data in model_data:\n",
    "            if 'P_' in data:\n",
    "                df.loc[data,model] = f'${ntwkDF[data].mean():.4f} \\pm {ntwkDF[data].std():.4f}$'\n",
    "            else:\n",
    "                df.loc[data,model] = f'{int(ntwkDF[data].sum())}'\n",
    "    return df\n",
    "    "
   ]
  },
  {
   "cell_type": "code",
   "execution_count": 2,
   "metadata": {},
   "outputs": [],
   "source": [
    "def read_probability_file(fname,fps,nafilter):\n",
    "    means = pd.read_csv(fname.format(fps,'means',nafilter),\n",
    "                       header=0,index_col=0)\n",
    "    stddev = pd.read_csv(fname.format(fps,'stddev',nafilter),\n",
    "                       header=0,index_col=0)\n",
    "    ntwkDict = {}\n",
    "    tex_df = pd.DataFrame()\n",
    "    for ntwk in means.columns:\n",
    "        ntwkDict[ntwk] = ((means.loc['P_s2s',ntwk],stddev.loc['P_s2s',ntwk]),\\\n",
    "                          (means.loc['P_u2s',ntwk],stddev.loc['P_u2s',ntwk]))\n",
    "        tex_df.loc['P_s2s',ntwk] = f\"${means.loc['P_s2s',ntwk]:.4f} \\pm {stddev.loc['P_s2s',ntwk]:.4f}$\"\n",
    "        tex_df.loc['P_u2s',ntwk] = f\"${means.loc['P_u2s',ntwk]:.4f} \\pm {stddev.loc['P_u2s',ntwk]:.4f}$\"\n",
    "        tex_df.loc['P_visible',ntwk] = f\"${means.loc['P_visible',ntwk]:.4f} \\pm {stddev.loc['P_visible',ntwk]:.4f}$\"\n",
    "    return means,stddev,ntwkDict,tex_df"
   ]
  },
  {
   "cell_type": "code",
   "execution_count": 3,
   "metadata": {},
   "outputs": [],
   "source": [
    "def simulate_and_analyse_ntwk_data(ntwkDict):\n",
    "    simDict = {}\n",
    "    for ntwk in ntwkDict:\n",
    "        print(ntwk)\n",
    "        p_s2s,p_u2s = ntwkDict[ntwk]\n",
    "        simDict[ntwk] = simulate_steps(p_s2s,p_u2s,mode,nlitter,tsteps)\n",
    "    return generate_model_data(simDict)"
   ]
  },
  {
   "cell_type": "code",
   "execution_count": 4,
   "metadata": {
    "scrolled": true
   },
   "outputs": [
    {
     "name": "stdout",
     "output_type": "stream",
     "text": [
      "mSSD-124\n",
      " 999                                                                                                                                          62                                                                                                                                                                                                                                                                                                                                                                                                                                                                                                                                                                                                                                                                                                                                                                                                                                                                                                                                                                                                                                                                                                                                                                                                                                                                                                                                                                                                                                                                                                                                                                                                                                                                                                                                                                                                                                                                                                                                                                                                                                                                                                                                                                                                        \n",
      "mSSD-220\n",
      " 999                                                                                                                                                                                                                                                                                                                                                                                                                                                                                                                                                                                                                                                                                                                                                                                                                                                                                                                                                                                                                                                                                                                                                              498                                                                                                    535                                                                                567                                                                                                                                                                                                                                                                                                                                                                                                                                                                                                                                                                                                                                                                                                                                                                                                                                                                                                                                                                                                                                                            \n",
      "yolov3-tiny-128\n",
      " 999                                                                                                                                                                                                                                                                                                                                                                                                                                                                                                                                                                                                                                                                                                                                                                                                                                                                                                                                                                                                                                                                                                                                                                                                                                                                                                                                                                                                                                                                                                                                                                                                                                                                                                                                                                                                                                                                                                                                                                                                                                                                                                                                                                                                                                                                                                                                                                                                                                  \n",
      "yolov3-tiny-224\n"
     ]
    },
    {
     "name": "stdout",
     "output_type": "stream",
     "text": [
      " 999                                                                                                                                                                                                                                                                                                                                                                                                                                                                                                                                                                                                                                                                                                                                                                                                                                                                                                                                                                                                                                                                                                                                                                                                                                                                                                                                                                                                                                                                                                                                                                                                                                                                                                                                                                                                                                                                                                                                                                                                                                                                                                                                                                                                                                                                                                                                                                                          \n"
     ]
    },
    {
     "data": {
      "text/plain": [
       "'experiment data'"
      ]
     },
     "metadata": {},
     "output_type": "display_data"
    },
    {
     "data": {
      "text/html": [
       "<div>\n",
       "<style scoped>\n",
       "    .dataframe tbody tr th:only-of-type {\n",
       "        vertical-align: middle;\n",
       "    }\n",
       "\n",
       "    .dataframe tbody tr th {\n",
       "        vertical-align: top;\n",
       "    }\n",
       "\n",
       "    .dataframe thead th {\n",
       "        text-align: right;\n",
       "    }\n",
       "</style>\n",
       "<table border=\"1\" class=\"dataframe\">\n",
       "  <thead>\n",
       "    <tr style=\"text-align: right;\">\n",
       "      <th></th>\n",
       "      <th>mSSD-124</th>\n",
       "      <th>mSSD-220</th>\n",
       "      <th>yolov3-tiny-128</th>\n",
       "      <th>yolov3-tiny-224</th>\n",
       "    </tr>\n",
       "  </thead>\n",
       "  <tbody>\n",
       "    <tr>\n",
       "      <th>P_u2s</th>\n",
       "      <td>$0.1293 \\pm 0.1031$</td>\n",
       "      <td>$0.2567 \\pm 0.1586$</td>\n",
       "      <td>$0.0224 \\pm 0.0325$</td>\n",
       "      <td>$0.0563 \\pm 0.0725$</td>\n",
       "    </tr>\n",
       "    <tr>\n",
       "      <th>P_s2s</th>\n",
       "      <td>$0.7896 \\pm 0.1824$</td>\n",
       "      <td>$0.8558 \\pm 0.1002$</td>\n",
       "      <td>$0.4358 \\pm 0.3954$</td>\n",
       "      <td>$0.5462 \\pm 0.3667$</td>\n",
       "    </tr>\n",
       "    <tr>\n",
       "      <th>P_visible</th>\n",
       "      <td>$0.4078 \\pm 0.2304$</td>\n",
       "      <td>$0.6104 \\pm 0.2156$</td>\n",
       "      <td>$0.1101 \\pm 0.1655$</td>\n",
       "      <td>$0.2102 \\pm 0.2456$</td>\n",
       "    </tr>\n",
       "  </tbody>\n",
       "</table>\n",
       "</div>"
      ],
      "text/plain": [
       "                      mSSD-124             mSSD-220      yolov3-tiny-128  \\\n",
       "P_u2s      $0.1293 \\pm 0.1031$  $0.2567 \\pm 0.1586$  $0.0224 \\pm 0.0325$   \n",
       "P_s2s      $0.7896 \\pm 0.1824$  $0.8558 \\pm 0.1002$  $0.4358 \\pm 0.3954$   \n",
       "P_visible  $0.4078 \\pm 0.2304$  $0.6104 \\pm 0.2156$  $0.1101 \\pm 0.1655$   \n",
       "\n",
       "               yolov3-tiny-224  \n",
       "P_u2s      $0.0563 \\pm 0.0725$  \n",
       "P_s2s      $0.5462 \\pm 0.3667$  \n",
       "P_visible  $0.2102 \\pm 0.2456$  "
      ]
     },
     "metadata": {},
     "output_type": "display_data"
    },
    {
     "data": {
      "text/plain": [
       "'simulated data'"
      ]
     },
     "metadata": {},
     "output_type": "display_data"
    },
    {
     "data": {
      "text/html": [
       "<div>\n",
       "<style scoped>\n",
       "    .dataframe tbody tr th:only-of-type {\n",
       "        vertical-align: middle;\n",
       "    }\n",
       "\n",
       "    .dataframe tbody tr th {\n",
       "        vertical-align: top;\n",
       "    }\n",
       "\n",
       "    .dataframe thead th {\n",
       "        text-align: right;\n",
       "    }\n",
       "</style>\n",
       "<table border=\"1\" class=\"dataframe\">\n",
       "  <thead>\n",
       "    <tr style=\"text-align: right;\">\n",
       "      <th></th>\n",
       "      <th>mSSD-124</th>\n",
       "      <th>mSSD-220</th>\n",
       "      <th>yolov3-tiny-128</th>\n",
       "      <th>yolov3-tiny-224</th>\n",
       "    </tr>\n",
       "  </thead>\n",
       "  <tbody>\n",
       "    <tr>\n",
       "      <th>P_u2s</th>\n",
       "      <td>$0.1309 \\pm 0.0139$</td>\n",
       "      <td>$0.2560 \\pm 0.0253$</td>\n",
       "      <td>$0.0221 \\pm 0.0046$</td>\n",
       "      <td>$0.0564 \\pm 0.0074$</td>\n",
       "    </tr>\n",
       "    <tr>\n",
       "      <th>P_s2s</th>\n",
       "      <td>$0.7888 \\pm 0.0201$</td>\n",
       "      <td>$0.8551 \\pm 0.0142$</td>\n",
       "      <td>$0.4265 \\pm 0.0916$</td>\n",
       "      <td>$0.5345 \\pm 0.0432$</td>\n",
       "    </tr>\n",
       "    <tr>\n",
       "      <th>P_visible</th>\n",
       "      <td>$0.3820 \\pm 0.0303$</td>\n",
       "      <td>$0.6371 \\pm 0.0315$</td>\n",
       "      <td>$0.0378 \\pm 0.0094$</td>\n",
       "      <td>$0.1085 \\pm 0.0149$</td>\n",
       "    </tr>\n",
       "  </tbody>\n",
       "</table>\n",
       "</div>"
      ],
      "text/plain": [
       "                      mSSD-124             mSSD-220      yolov3-tiny-128  \\\n",
       "P_u2s      $0.1309 \\pm 0.0139$  $0.2560 \\pm 0.0253$  $0.0221 \\pm 0.0046$   \n",
       "P_s2s      $0.7888 \\pm 0.0201$  $0.8551 \\pm 0.0142$  $0.4265 \\pm 0.0916$   \n",
       "P_visible  $0.3820 \\pm 0.0303$  $0.6371 \\pm 0.0315$  $0.0378 \\pm 0.0094$   \n",
       "\n",
       "               yolov3-tiny-224  \n",
       "P_u2s      $0.0564 \\pm 0.0074$  \n",
       "P_s2s      $0.5345 \\pm 0.0432$  \n",
       "P_visible  $0.1085 \\pm 0.0149$  "
      ]
     },
     "metadata": {},
     "output_type": "display_data"
    }
   ],
   "source": [
    "nlitter = 100\n",
    "tsteps = 1000\n",
    "mode='mean'\n",
    "fps=50\n",
    "nafilter='0'\n",
    "fname = '../data/simplified_data/first_and_last_appearance_condition/{0}fps/{0}fps-ge_threshold-1/TPandFN_probability_{1}_nafilter_{2}.csv'\n",
    "means,stddev,ntwkDict,tex_df = read_probability_file(fname,fps,nafilter)\n",
    "sim = simulate_and_analyse_ntwk_data(ntwkDict)\n",
    "\n",
    "probabilities=['P_u2s','P_s2s','P_visible']\n",
    "display('experiment data',tex_df.loc[probabilities,:])\n",
    "display('simulated data',sim.loc[probabilities,:])"
   ]
  },
  {
   "cell_type": "code",
   "execution_count": 5,
   "metadata": {
    "collapsed": true
   },
   "outputs": [
    {
     "name": "stdout",
     "output_type": "stream",
     "text": [
      "mSSD-124\n",
      " 999                                                                                                                                                                                                                                                                                                                                                                                                                                                                                                                                                                                                                                                                                                                                                                   337                                                                                                                                                                407                                                                                                                                                                                                                                                                                                                                                                                                                                                                                                                                                                                                                                                                                                                                                                                                                                                                                                                                                                                                                                                                                                                                                                                                                                                                                                                                                                                                                                                                                                \n",
      "mSSD-220\n",
      " 999                                                                                                                                                                                                                                                                                                                                                                                                                                                                                                                                                                                                                                                                                                                                                                                                                                                                                                                                                                                                                                                                                                                                                                                                                                                                                                                                                                                                                                                                                                                                                                                                                                                                                                                                                                                                                                                                                                                                                                                                                                                                                                                                                                                                                                                                                                                                                                                                                                                      \n",
      "yolov3-tiny-128\n",
      " 999                                                                                                                                                                                                                                                                                                                                                                                                                                                                                                                                                                                                                                                                                                                                                                                                                                                                                                                                                                                                                                                                                                                                                                                                                                                                                                                                                                                                                                                                                                                                                                                                                                                                                                                                                                                                                                                                                                                                                                                                                                                                                                                                                                                                                                                                                                                                                                                                                                                                                              \n",
      "yolov3-tiny-224\n"
     ]
    },
    {
     "name": "stdout",
     "output_type": "stream",
     "text": [
      " 999                                                                                                                                                                                                                                                                                                                                                                                                                                                                                                                                                                                                                                                                                                                                                                                                                                                                                                                                                                                                                                                                                                                                                                                                                                                                                                                                                                                                                                                                                                                                                                                                                                                                                                                                                                                                                                                                                                                                                                                                                                                                                                                                                                                                                                                                                                                                                                                                                                                                                                                  \n"
     ]
    },
    {
     "data": {
      "text/plain": [
       "'experiment data'"
      ]
     },
     "metadata": {},
     "output_type": "display_data"
    },
    {
     "data": {
      "text/html": [
       "<div>\n",
       "<style scoped>\n",
       "    .dataframe tbody tr th:only-of-type {\n",
       "        vertical-align: middle;\n",
       "    }\n",
       "\n",
       "    .dataframe tbody tr th {\n",
       "        vertical-align: top;\n",
       "    }\n",
       "\n",
       "    .dataframe thead th {\n",
       "        text-align: right;\n",
       "    }\n",
       "</style>\n",
       "<table border=\"1\" class=\"dataframe\">\n",
       "  <thead>\n",
       "    <tr style=\"text-align: right;\">\n",
       "      <th></th>\n",
       "      <th>mSSD-124</th>\n",
       "      <th>mSSD-220</th>\n",
       "      <th>yolov3-tiny-128</th>\n",
       "      <th>yolov3-tiny-224</th>\n",
       "    </tr>\n",
       "  </thead>\n",
       "  <tbody>\n",
       "    <tr>\n",
       "      <th>P_u2s</th>\n",
       "      <td>$0.4806 \\pm 0.3515$</td>\n",
       "      <td>$0.6860 \\pm 0.3445$</td>\n",
       "      <td>$0.1501 \\pm 0.2533$</td>\n",
       "      <td>$0.2483 \\pm 0.3278$</td>\n",
       "    </tr>\n",
       "    <tr>\n",
       "      <th>P_s2s</th>\n",
       "      <td>$0.4820 \\pm 0.4659$</td>\n",
       "      <td>$0.6352 \\pm 0.4053$</td>\n",
       "      <td>$0.1300 \\pm 0.3170$</td>\n",
       "      <td>$0.2037 \\pm 0.3648$</td>\n",
       "    </tr>\n",
       "    <tr>\n",
       "      <th>P_visible</th>\n",
       "      <td>$0.4185 \\pm 0.2923$</td>\n",
       "      <td>$0.6042 \\pm 0.2852$</td>\n",
       "      <td>$0.1214 \\pm 0.2032$</td>\n",
       "      <td>$0.2039 \\pm 0.2712$</td>\n",
       "    </tr>\n",
       "  </tbody>\n",
       "</table>\n",
       "</div>"
      ],
      "text/plain": [
       "                      mSSD-124             mSSD-220      yolov3-tiny-128  \\\n",
       "P_u2s      $0.4806 \\pm 0.3515$  $0.6860 \\pm 0.3445$  $0.1501 \\pm 0.2533$   \n",
       "P_s2s      $0.4820 \\pm 0.4659$  $0.6352 \\pm 0.4053$  $0.1300 \\pm 0.3170$   \n",
       "P_visible  $0.4185 \\pm 0.2923$  $0.6042 \\pm 0.2852$  $0.1214 \\pm 0.2032$   \n",
       "\n",
       "               yolov3-tiny-224  \n",
       "P_u2s      $0.2483 \\pm 0.3278$  \n",
       "P_s2s      $0.2037 \\pm 0.3648$  \n",
       "P_visible  $0.2039 \\pm 0.2712$  "
      ]
     },
     "metadata": {},
     "output_type": "display_data"
    },
    {
     "data": {
      "text/plain": [
       "'simulated data'"
      ]
     },
     "metadata": {},
     "output_type": "display_data"
    },
    {
     "data": {
      "text/html": [
       "<div>\n",
       "<style scoped>\n",
       "    .dataframe tbody tr th:only-of-type {\n",
       "        vertical-align: middle;\n",
       "    }\n",
       "\n",
       "    .dataframe tbody tr th {\n",
       "        vertical-align: top;\n",
       "    }\n",
       "\n",
       "    .dataframe thead th {\n",
       "        text-align: right;\n",
       "    }\n",
       "</style>\n",
       "<table border=\"1\" class=\"dataframe\">\n",
       "  <thead>\n",
       "    <tr style=\"text-align: right;\">\n",
       "      <th></th>\n",
       "      <th>mSSD-124</th>\n",
       "      <th>mSSD-220</th>\n",
       "      <th>yolov3-tiny-128</th>\n",
       "      <th>yolov3-tiny-224</th>\n",
       "    </tr>\n",
       "  </thead>\n",
       "  <tbody>\n",
       "    <tr>\n",
       "      <th>P_u2s</th>\n",
       "      <td>$0.1309 \\pm 0.0139$</td>\n",
       "      <td>$0.2560 \\pm 0.0253$</td>\n",
       "      <td>$0.0221 \\pm 0.0046$</td>\n",
       "      <td>$0.0564 \\pm 0.0074$</td>\n",
       "    </tr>\n",
       "    <tr>\n",
       "      <th>P_s2s</th>\n",
       "      <td>$0.7888 \\pm 0.0201$</td>\n",
       "      <td>$0.8551 \\pm 0.0142$</td>\n",
       "      <td>$0.4265 \\pm 0.0916$</td>\n",
       "      <td>$0.5345 \\pm 0.0432$</td>\n",
       "    </tr>\n",
       "    <tr>\n",
       "      <th>P_visible</th>\n",
       "      <td>$0.3820 \\pm 0.0303$</td>\n",
       "      <td>$0.6371 \\pm 0.0315$</td>\n",
       "      <td>$0.0378 \\pm 0.0094$</td>\n",
       "      <td>$0.1085 \\pm 0.0149$</td>\n",
       "    </tr>\n",
       "  </tbody>\n",
       "</table>\n",
       "</div>"
      ],
      "text/plain": [
       "                      mSSD-124             mSSD-220      yolov3-tiny-128  \\\n",
       "P_u2s      $0.1309 \\pm 0.0139$  $0.2560 \\pm 0.0253$  $0.0221 \\pm 0.0046$   \n",
       "P_s2s      $0.7888 \\pm 0.0201$  $0.8551 \\pm 0.0142$  $0.4265 \\pm 0.0916$   \n",
       "P_visible  $0.3820 \\pm 0.0303$  $0.6371 \\pm 0.0315$  $0.0378 \\pm 0.0094$   \n",
       "\n",
       "               yolov3-tiny-224  \n",
       "P_u2s      $0.0564 \\pm 0.0074$  \n",
       "P_s2s      $0.5345 \\pm 0.0432$  \n",
       "P_visible  $0.1085 \\pm 0.0149$  "
      ]
     },
     "metadata": {},
     "output_type": "display_data"
    }
   ],
   "source": [
    "nlitter = 100\n",
    "tsteps = 1000\n",
    "mode='mean'\n",
    "fps=1\n",
    "nafilter='0'\n",
    "fname = '../data/simplified_data/first_and_last_appearance_condition/{0}fps/{0}fps-ge_threshold-1/TPandFN_probability_{1}_nafilter_{2}.csv'\n",
    "means,stddev,ntwkDict,tex_df = read_probability_file(fname,fps,nafilter)\n",
    "sim1fps = simulate_and_analyse_ntwk_data(ntwkDict)\n",
    "\n",
    "probabilities=['P_u2s','P_s2s','P_visible']\n",
    "display('experiment data',tex_df.loc[probabilities,:])\n",
    "display('simulated data',sim1fps.loc[probabilities,:])"
   ]
  },
  {
   "cell_type": "code",
   "execution_count": 14,
   "metadata": {},
   "outputs": [
    {
     "name": "stdout",
     "output_type": "stream",
     "text": [
      "\\begin{tabular}{lllll}\n",
      "\\toprule\n",
      "{} &             mSSD-124 &             mSSD-220 &      yolov3-tiny-128 &      yolov3-tiny-224 \\\\\n",
      "\\midrule\n",
      "P_s2s     &  $0.4820 \\pm 0.4659$ &  $0.6352 \\pm 0.4053$ &  $0.1300 \\pm 0.3170$ &  $0.2037 \\pm 0.3648$ \\\\\n",
      "P_u2s     &  $0.4806 \\pm 0.3515$ &  $0.6860 \\pm 0.3445$ &  $0.1501 \\pm 0.2533$ &  $0.2483 \\pm 0.3278$ \\\\\n",
      "P_visible &  $0.4185 \\pm 0.2923$ &  $0.6042 \\pm 0.2852$ &  $0.1214 \\pm 0.2032$ &  $0.2039 \\pm 0.2712$ \\\\\n",
      "\\bottomrule\n",
      "\\end{tabular}\n",
      "\n"
     ]
    }
   ],
   "source": [
    "fps=1\n",
    "nafilter='0'\n",
    "fname = '../data/simplified_data/first_and_last_appearance_condition/{0}fps/{0}fps-ge_threshold-1/TPandFN_probability_{1}_nafilter_{2}.csv'\n",
    "means,stddev,ntwkDict,tex_df = read_probability_file(fname,fps,nafilter)\n",
    "print(tex_df.to_latex(escape=False))"
   ]
  },
  {
   "cell_type": "code",
   "execution_count": 16,
   "metadata": {},
   "outputs": [
    {
     "name": "stdout",
     "output_type": "stream",
     "text": [
      "\\begin{tabular}{lllll}\n",
      "\\toprule\n",
      "{} &             mSSD-124 &             mSSD-220 &      yolov3-tiny-128 &      yolov3-tiny-224 \\\\\n",
      "\\midrule\n",
      "P_s2s         &  $0.4784 \\pm 0.0217$ &  $0.6361 \\pm 0.0180$ &  $0.1274 \\pm 0.0247$ &  $0.2036 \\pm 0.0276$ \\\\\n",
      "P_u2s         &  $0.4813 \\pm 0.0231$ &  $0.6871 \\pm 0.0258$ &  $0.1483 \\pm 0.0123$ &  $0.2466 \\pm 0.0149$ \\\\\n",
      "P_visible     &  $0.4799 \\pm 0.0162$ &  $0.6538 \\pm 0.0131$ &  $0.1452 \\pm 0.0111$ &  $0.2364 \\pm 0.0121$ \\\\\n",
      "seen          &                47988 &                65378 &                14525 &                23644 \\\\\n",
      "seen2seen     &                22958 &                41559 &                 1859 &                 4823 \\\\\n",
      "seen2unseen   &                24979 &                23749 &                12653 &                18797 \\\\\n",
      "unseen        &                52012 &                34622 &                85475 &                76356 \\\\\n",
      "unseen2seen   &                24980 &                23752 &                12654 &                18799 \\\\\n",
      "unseen2unseen &                26983 &                10840 &                72734 &                57481 \\\\\n",
      "\\bottomrule\n",
      "\\end{tabular}\n",
      "\n"
     ]
    }
   ],
   "source": [
    "print(sim1fps.to_latex(escape=False))"
   ]
  },
  {
   "cell_type": "code",
   "execution_count": null,
   "metadata": {},
   "outputs": [],
   "source": []
  }
 ],
 "metadata": {
  "kernelspec": {
   "display_name": "Python 3",
   "language": "python",
   "name": "python3"
  },
  "language_info": {
   "codemirror_mode": {
    "name": "ipython",
    "version": 3
   },
   "file_extension": ".py",
   "mimetype": "text/x-python",
   "name": "python",
   "nbconvert_exporter": "python",
   "pygments_lexer": "ipython3",
   "version": "3.7.1"
  }
 },
 "nbformat": 4,
 "nbformat_minor": 2
}
